{
 "cells": [
  {
   "attachments": {},
   "cell_type": "markdown",
   "metadata": {},
   "source": [
    "<img src='http://www-scf.usc.edu/~ghasemig/images/sharif.png' alt=\"SUT logo\" width=300 height=300 align=left class=\"saturate\" >\n",
    "\n",
    "<br>\n",
    "<font>\n",
    "<div dir=ltr align=center>\n",
    "<font color=0F5298 size=7>\n",
    "    Artificial Intelligence <br>\n",
    "<font color=2565AE size=5>\n",
    "    Computer Engineering Department <br>\n",
    "    Spring 2023<br>\n",
    "<font color=3C99D size=5>\n",
    "    Practical Assignment 1 - Search <br>\n",
    "<font color=696880 size=4>\n",
    "    Mohammad Mahdi Abootorabi and Roozbeh Pirayadi \n",
    "\n",
    "____"
   ]
  },
  {
   "cell_type": "markdown",
   "metadata": {},
   "source": [
    "# Personal Data"
   ]
  },
  {
   "cell_type": "code",
   "execution_count": 417,
   "metadata": {},
   "outputs": [],
   "source": [
    "# Set your student number\n",
    "student_number = '98102465'\n",
    "Name = 'Navid'\n",
    "Last_Name = 'Nader Tehrani'"
   ]
  },
  {
   "attachments": {},
   "cell_type": "markdown",
   "metadata": {},
   "source": [
    "# Rules\n",
    "- Make sure that all of your cells can be run perfectly. "
   ]
  },
  {
   "attachments": {},
   "cell_type": "markdown",
   "metadata": {},
   "source": [
    "# Q1: Elevator Ride (100 Points)"
   ]
  },
  {
   "attachments": {},
   "cell_type": "markdown",
   "metadata": {},
   "source": [
    "<font size=4>\n",
    "Author: Roozbeh Pirayadi\n",
    "\t\t\t<br/>\n",
    "                <font color=red>\n",
    "Please run all the cells.\n",
    "     </font>\n",
    "</font>\n",
    "                <br/>\n",
    "    </div>"
   ]
  },
  {
   "attachments": {},
   "cell_type": "markdown",
   "metadata": {},
   "source": [
    "## Problem Definition"
   ]
  },
  {
   "attachments": {},
   "cell_type": "markdown",
   "metadata": {},
   "source": [
    "Computer Engineering department has two floors. There are N students and M professors on the first floor, all of whom, want to go from the first floor to the second floor. The only way to move from the first floor to the second one is by using an elevator. \n",
    "\n",
    "At most two people can fit in the elevator at the same time. Also, the elevator cannot operate by itself. This means that when the elevator moves up or down, there is either one person in the elevator or there are two people in it. \n",
    "\n",
    "But there is a problem. \n",
    "If in any of the mentioned floors, there are more students than proffesors, students will start asking questions from the professors. Professors are not willing to answer any question. So none of them wants to be in a floor where the number of students is more than the number of professors. Note that when there is no professor in the floor the number of students is not important. But when there is, the number of students must be less than or equal to the number of professors.\n",
    "\n",
    "Our goal is to find a schedule for the people to get on the elevator so that this constraint is satisfied.\n",
    "\n",
    "Below you can see a solution for 4 students and 4 professors"
   ]
  },
  {
   "attachments": {},
   "cell_type": "markdown",
   "metadata": {},
   "source": [
    "![SegmentLocal](images/result_of_5_3.gif \"segment\")"
   ]
  },
  {
   "attachments": {},
   "cell_type": "markdown",
   "metadata": {},
   "source": [
    "Every state in the discussed problem could be represented as a 5-tuple (s1, p1, s2, p2, e). Where s1 is the number of students in the first floor, p1 is the number of professors in the first floor, s2 is the number of students in the second floor and p2 is the number of professors in the second floor. Finally e shows which floor the elevator is.\n",
    "\n",
    "Our goal is to find a feasible solution. we will do this by starting from the initial state and searching for the final state. Note that there may be more than one way to the final state so the solution is not unique."
   ]
  },
  {
   "attachments": {},
   "cell_type": "markdown",
   "metadata": {},
   "source": [
    "## Solution"
   ]
  },
  {
   "attachments": {},
   "cell_type": "markdown",
   "metadata": {},
   "source": [
    "### Graph"
   ]
  },
  {
   "attachments": {},
   "cell_type": "markdown",
   "metadata": {},
   "source": [
    "Below is an implementation of a directed weighted graph. You don't need to change anything in this cell. Just take a look at the code, so you could use it."
   ]
  },
  {
   "cell_type": "code",
   "execution_count": 434,
   "metadata": {},
   "outputs": [],
   "source": [
    "###########################################\n",
    "###### no need to change any thing ########\n",
    "###########################################\n",
    "class graph:\n",
    "    def __init__(self):\n",
    "        self.graph = {}\n",
    "        self.visited = {}\n",
    "\n",
    "    # add a new edge between v1 and v2 with weight w or update the weight if edge already exists\n",
    "    def append(self, v1, v2, w):\n",
    "        if v1 not in self.graph.keys():\n",
    "            self.graph[v1] = {}\n",
    "            self.visited[v1] = 0\n",
    "        if v2 not in self.graph.keys():\n",
    "            self.graph[v2] = {}\n",
    "            self.visited[v2] = 0\n",
    "        self.graph[v1][v2] = w\n",
    "\n",
    "    # return adjacency list (used for debugging)\n",
    "    def reveal(self):\n",
    "        return self.graph\n",
    "\n",
    "    # return all vertices in the graph\n",
    "    def vertex(self):\n",
    "        return list(self.graph.keys())\n",
    "\n",
    "    # return all neighbours of a vertix as a list\n",
    "\n",
    "    def neighbour(self, v):\n",
    "        return list(self.graph[v].keys())\n",
    "\n",
    "    # return the weight of a edge\n",
    "\n",
    "    def weight(self, v1, v2):\n",
    "        return (self.graph[v1][v2])\n",
    "\n",
    "    # return the number of vertices\n",
    "\n",
    "    def order(self):\n",
    "        return len(self.graph)\n",
    "\n",
    "    # visit a particular vertex\n",
    "    def visit(self, v):\n",
    "        self.visited[v] = 1\n",
    "\n",
    "    # return the visit status of a particular vertex\n",
    "    def is_visited(self, vertexid):\n",
    "        return self.visited[vertexid]\n",
    "\n",
    "    # return which vertices have been visited\n",
    "    def get_visited(self):\n",
    "        return self.visited\n",
    "\n",
    "    # return degree of a particular vertex\n",
    "    def degree(self, vertexid):\n",
    "        return len(self.graph[vertexid])\n",
    "\n",
    "    # unvisit the whole graph        if whole is True\n",
    "    # unvisit a particular vertex    if whole is False\n",
    "    def clear(self, v=None, whole=False):\n",
    "        if whole:\n",
    "            self.visited = dict(zip(self.graph.keys(), [0 for i in range(len(self.graph))]))\n",
    "        elif v is not None:\n",
    "            self.visited[v] = 0\n",
    "        else:\n",
    "            assert False, \"arguments must satisfy whole=True or v not None\"\n"
   ]
  },
  {
   "attachments": {},
   "cell_type": "markdown",
   "metadata": {},
   "source": [
    "#### Building the graph of states"
   ]
  },
  {
   "attachments": {},
   "cell_type": "markdown",
   "metadata": {},
   "source": [
    "Let's start by a little example and consider a situation where we there are 3 students and 3 professors. Note that your code should be written for the general case using the variables N and M."
   ]
  },
  {
   "cell_type": "code",
   "execution_count": 435,
   "metadata": {},
   "outputs": [],
   "source": [
    "# Number of Students\n",
    "N = 3\n",
    "# Number of Professors\n",
    "M = 3"
   ]
  },
  {
   "attachments": {},
   "cell_type": "markdown",
   "metadata": {},
   "source": [
    "First let's implement a function that receives a 4-tuple (s1, p1, s2, p2) as an input and checks whether this state is a valid one or not. Note that e (position of the elevator) cannot affect the validity of a state so it is not provided as an input."
   ]
  },
  {
   "cell_type": "code",
   "execution_count": 436,
   "metadata": {},
   "outputs": [],
   "source": [
    "# validate a state (s1, p1, s2, p2)\n",
    "# if the constraints are satisfied return true, else return false\n",
    "def validate(input):\n",
    "\n",
    "    s1, p1, s2, p2 = input\n",
    "\n",
    "    ################################################\n",
    "    ###### complete this function (10 Points) ######\n",
    "    ################################################\n",
    "    v = 1\n",
    "    if (s1 > p1 and p1 > 0) or (s2 > p2 and p2 > 0):\n",
    "        v = 0\n",
    "    return v"
   ]
  },
  {
   "attachments": {},
   "cell_type": "markdown",
   "metadata": {},
   "source": [
    "The below function must build the whole graph. Each scenario is a vertex and v1 is connected to v2 with weight 1 if scenario in v1 could be changed to the scenario in v2 by only one traversal of the elevator.\n",
    "\n",
    "Hint: you can iterate over different values of s1, p1 and e and determine s2 and p2 using N and M. Then you can check all different actions and use the validate function to determine whether taking this action is possible or not."
   ]
  },
  {
   "cell_type": "code",
   "execution_count": 437,
   "metadata": {},
   "outputs": [],
   "source": [
    "# builds the complete graph\n",
    "def build_graph(N, M):\n",
    "    G = graph()\n",
    "\n",
    "    #############################################\n",
    "    ###  complete this function (25 Points)   ###\n",
    "    #############################################\n",
    "    for i in range(N + 1):\n",
    "        for j in range(M + 1):\n",
    "            # assume elevator is on the first floor\n",
    "            v1 = (i, j, N - i, M - j, 1)\n",
    "            if validate([i, j, N - i, M - j]) == 0:\n",
    "                continue\n",
    "            if i > 0:\n",
    "                v2 = (i - 1, j, N - i + 1, M - j, 2)\n",
    "                if validate([i - 1, j, N - i + 1, M - j]):\n",
    "                    G.append(v1, v2, 1)\n",
    "            if j > 0:\n",
    "                v2 = (i, j - 1, N - i, M - j + 1, 2)\n",
    "                if validate([i, j - 1, N - i, M - j + 1]):\n",
    "                    G.append(v1, v2, 1)\n",
    "            if i > 1:\n",
    "                v2 = (i - 2, j, N - i + 2, M - j, 2)\n",
    "                if validate([i - 2,j ,N - i + 2 ,M - j]):\n",
    "                    G.append(v1, v2, 1)\n",
    "            if j > 1:\n",
    "                v2 = (i, j - 2, N - i, M - j + 2, 2)\n",
    "                if validate([i, j - 2, N - i, M - j + 2]):\n",
    "                    G.append(v1, v2, 1)\n",
    "            \n",
    "            if j > 0 and  i > 0:\n",
    "                v2 = (i - 1, j - 1, N - i + 1, M - j + 1, 2)\n",
    "                if validate([i - 1, j - 1, N - i + 1, M - j + 1]):\n",
    "                    G.append(v1, v2, 1)\n",
    "            \n",
    "            \n",
    "            # assume elevator is on the second floor\n",
    "            v1 = (i, j, N - i, M - j, 2)\n",
    "            if N - i > 0:\n",
    "                v2 = (i + 1, j, N - i - 1, M - j, 1)\n",
    "                if validate([i + 1, j, N - i - 1, M - j]):\n",
    "                    G.append(v1, v2, 1)\n",
    "            if M - j > 0:\n",
    "                v2 = (i, j + 1, N - i, M - j - 1, 1)\n",
    "                if validate([i, j + 1, N - i, M - j - 1]):\n",
    "                    G.append(v1, v2, 1)\n",
    "            if N - i > 1:\n",
    "                v2 = (i + 2, j, N - i - 2, M - j, 1)\n",
    "                if validate([i + 2, j, N - i - 2, M - j]):\n",
    "                    G.append(v1, v2, 1)\n",
    "            if M - j > 1:\n",
    "                v2 = (i, j + 2, N - i, M - j - 2, 1)\n",
    "                if validate([i, j + 2, N - i, M - j - 2]):\n",
    "                    G.append(v1, v2, 1)\n",
    "            if M - j > 0 and  N - i > 0:\n",
    "                v2 = (i + 1, j + 1, N - i - 1, M - j - 1, 1)\n",
    "                if validate([i + 1, j + 1, N - i - 1, M - j - 1]):\n",
    "                    G.append(v1, v2, 1)\n",
    "            \n",
    "            \n",
    "\n",
    "\n",
    "    #############################################\n",
    "\n",
    "    return G\n"
   ]
  },
  {
   "cell_type": "code",
   "execution_count": 438,
   "metadata": {},
   "outputs": [],
   "source": [
    "G = build_graph(N, M)"
   ]
  },
  {
   "attachments": {},
   "cell_type": "markdown",
   "metadata": {},
   "source": [
    "### Depth First Search"
   ]
  },
  {
   "attachments": {},
   "cell_type": "markdown",
   "metadata": {},
   "source": [
    "The first algorithm we use to solve the problem is Depth First Search. The function below  executes DFS on G from start until it reaches end. Note that if end is not reachable from start this function returns false and otherwise it returns the found path as a list of states. DFS code is completely and it is used as a baseline to evaulute your A* implementation in the next part."
   ]
  },
  {
   "cell_type": "code",
   "execution_count": 439,
   "metadata": {},
   "outputs": [],
   "source": [
    "###########################################\n",
    "###### no need to change any thing ########\n",
    "###########################################\n",
    "# Depth First Search to find the path from start to end\n",
    "def run_dfs(G, start, end):\n",
    "    queue = []\n",
    "    queue.append(start)\n",
    "\n",
    "    # pred keeps track of how we got to the current vertex\n",
    "    pred = {}\n",
    "\n",
    "    while queue:\n",
    "        current = queue.pop(0)\n",
    "        G.visit(current)\n",
    "\n",
    "        smallq = []\n",
    "\n",
    "        # find children and add to the priority\n",
    "        for newpos in G.neighbour(current):\n",
    "            if not G.is_visited(newpos):\n",
    "                # if the child vertex has already been in queue\n",
    "                # move it to the frontline of queue\n",
    "                if newpos in queue:\n",
    "                    queue.remove(newpos)\n",
    "                smallq.append(newpos)\n",
    "                pred[newpos] = current\n",
    "\n",
    "        queue = smallq+queue\n",
    "\n",
    "        # traversal ends when the target is met\n",
    "        if current == end:\n",
    "            break\n",
    "\n",
    "    if current != end:\n",
    "        return False\n",
    "\n",
    "    # create the path by backtracking\n",
    "    # trace the predecessor vertex from end to start\n",
    "    previous = end\n",
    "    path = []\n",
    "    while pred:\n",
    "        path.insert(0, previous)\n",
    "        if previous == start:\n",
    "            break\n",
    "        previous = pred[previous]\n",
    "\n",
    "    return path\n"
   ]
  },
  {
   "cell_type": "code",
   "execution_count": 440,
   "metadata": {},
   "outputs": [],
   "source": [
    "start_vertex = (N, M, 0, 0, 1)\n",
    "end_vertex = (0, 0, N, M, 2)"
   ]
  },
  {
   "cell_type": "code",
   "execution_count": 441,
   "metadata": {},
   "outputs": [
    {
     "name": "stdout",
     "output_type": "stream",
     "text": [
      "length of the path DFS has found: 11\n",
      "number of vertices DFS has traveled: 14\n"
     ]
    }
   ],
   "source": [
    "###########################################\n",
    "###### no need to change any thing ########\n",
    "###########################################\n",
    "def dfs_result(G, start_vertex, end_vertex):\n",
    "\n",
    "    dfs_path = run_dfs(G, start_vertex, end_vertex)\n",
    "\n",
    "    num_of_visited_dfs = 0\n",
    "    num_of_visited_dfs = len([i for i in G.get_visited() if G.get_visited()[i] == 1])\n",
    "\n",
    "    G.clear(whole=True)\n",
    "\n",
    "    if not dfs_path:\n",
    "        print(\"end vertex not reachable\")\n",
    "    else:\n",
    "        print(f'length of the path DFS has found:', len(dfs_path) - 1)\n",
    "\n",
    "    print(f'number of vertices DFS has traveled:', num_of_visited_dfs)\n",
    "\n",
    "\n",
    "dfs_result(G, start_vertex, end_vertex)\n"
   ]
  },
  {
   "attachments": {},
   "cell_type": "markdown",
   "metadata": {},
   "source": [
    "### A* Algorithm"
   ]
  },
  {
   "attachments": {},
   "cell_type": "markdown",
   "metadata": {},
   "source": [
    "Next we use the A* algorithm. To use A* we need to propose a heuristic function. Propose a non-trivial heuristic function and argue that it is admissible. (10 Points)\n",
    "\n"
   ]
  },
  {
   "attachments": {},
   "cell_type": "markdown",
   "metadata": {},
   "source": [
    "<font color='cyan'>\n",
    "\n",
    "$$\n",
    " h((s1, p1, s2, p2, e)) = ?\n",
    "$$\n",
    "\n",
    "می دانیم در هر پایین آمدن حداکثر دو واحد سود می کنیم و به جواب نزدیک می شویم اما در هر بالا رفتن حداقل یک ضرر می کنیم. پس در هر بالا و پایین رفتن حداکثر یک سود وجو دارد. یعنی به ازای هر دو حرکت یک سودبه جز در حرکت آخر که پایین می آییم و دیگر لازم نیست بالا برویم. پس تابع می تواند به صورت دوبرابر تعداد افراد باقی مانده در طبقه اول منهای ۱ تعریف شود. برای این که هیوریستیک حالت نهایی منفی نباشد آن را برابر با ۰ قرار دادیم.\n",
    "\n",
    "</font>\n",
    "\n"
   ]
  },
  {
   "cell_type": "code",
   "execution_count": 442,
   "metadata": {},
   "outputs": [],
   "source": [
    "def heuristic_func(input):\n",
    "    s1, p1, s2, p2, e = input\n",
    "\n",
    "######################################################\n",
    "###### implement the func you proposed(5 Points) #####\n",
    "######################################################\n",
    "\n",
    "    ret = 2 * (s1 + p1) - 1;\n",
    "\n",
    "    \n",
    "    if s1 + p1 == 0:\n",
    "        ret = 0\n",
    "    return ret\n"
   ]
  },
  {
   "attachments": {},
   "cell_type": "markdown",
   "metadata": {},
   "source": [
    "Like DFS if end is not reachable from start A* must return false and otherwise it must return the found path as a list of states."
   ]
  },
  {
   "cell_type": "code",
   "execution_count": 443,
   "metadata": {},
   "outputs": [],
   "source": [
    "# A* to find the path from start to end\n",
    "def run_a_star(G, start, end):\n",
    "    #######################################################\n",
    "    ######### implement A* algorithm (30 Points) ##########\n",
    "    #######################################################\n",
    "    queue = []\n",
    "    c_queue = []\n",
    "\n",
    "    queue.append(start)\n",
    "    parent = {}\n",
    "    dis = {}\n",
    "    dis[start] = 0\n",
    "\n",
    "\n",
    "    parent [start] = None \n",
    "\n",
    "    while queue:\n",
    "        v = None\n",
    "        for vertex in queue:\n",
    "            if v == None or heuristic_func(vertex) + dis[vertex] < heuristic_func(v) + dis[v]:\n",
    "                v = vertex\n",
    "\n",
    "        if v == None:\n",
    "            return False\n",
    "        \n",
    "\n",
    "        if v == end:\n",
    "            path = []\n",
    "            cur = v\n",
    "            while cur != start:\n",
    "                path.append(cur)\n",
    "                cur = parent[cur]\n",
    "            path.append(start)\n",
    "            path.reverse()\n",
    "            c_queue.clear()\n",
    "            queue.clear()\n",
    "            return path\n",
    "        \n",
    "\n",
    "        for k in G.neighbour(v):\n",
    "            if G.is_visited(k):\n",
    "                continue\n",
    "            dis[k] = dis[v] + 1\n",
    "            if dis[k] > 2 * (M + N) + 100:\n",
    "                continue\n",
    "            queue.append(k)\n",
    "            parent[k] = v\n",
    "            \n",
    "        queue.remove(v)\n",
    "        G.visit(v)\n",
    "            \n",
    "            \n",
    "        \n",
    "\n"
   ]
  },
  {
   "cell_type": "code",
   "execution_count": 444,
   "metadata": {},
   "outputs": [
    {
     "name": "stdout",
     "output_type": "stream",
     "text": [
      "length of the path A* has found: 11\n",
      "number of vertices A* has traveled: 13\n"
     ]
    }
   ],
   "source": [
    "###########################################\n",
    "###### no need to change any thing ########\n",
    "###########################################\n",
    "def a_star_result(G, start_vertex, end_vertex):\n",
    "\n",
    "    a_star_path = run_a_star(G, start_vertex, end_vertex)\n",
    "\n",
    "    num_of_visited_a_star = 0\n",
    "    num_of_visited_a_star = len([i for i in G.get_visited() if G.get_visited()[i] == 1])\n",
    "\n",
    "    G.clear(whole=True)\n",
    "\n",
    "    if not a_star_path:\n",
    "        print(\"end vertex not reachable\")\n",
    "    else:\n",
    "        print(f'length of the path A* has found:', len(a_star_path) - 1)\n",
    "\n",
    "    print(f'number of vertices A* has traveled:', num_of_visited_a_star)\n",
    "\n",
    "\n",
    "a_star_result(G, start_vertex, end_vertex)\n"
   ]
  },
  {
   "attachments": {},
   "cell_type": "markdown",
   "metadata": {},
   "source": [
    "## Visualization"
   ]
  },
  {
   "attachments": {},
   "cell_type": "markdown",
   "metadata": {},
   "source": [
    "The below code creates a gif named \"result.gif\" which shows the result found by A* algorithm."
   ]
  },
  {
   "cell_type": "code",
   "execution_count": 445,
   "metadata": {},
   "outputs": [
    {
     "data": {
      "image/png": "[encoded data removed]",
      "text/plain": [
       "<Figure size 648x360 with 1 Axes>"
      ]
     },
     "metadata": {},
     "output_type": "display_data"
    }
   ],
   "source": [
    "import drawer\n",
    "drawer.create_gif(run_a_star(G, start_vertex, end_vertex))\n",
    "G.clear(whole=True)"
   ]
  },
  {
   "attachments": {},
   "cell_type": "markdown",
   "metadata": {},
   "source": [
    "## Results"
   ]
  },
  {
   "attachments": {},
   "cell_type": "markdown",
   "metadata": {},
   "source": [
    "Now results of DFS and A* could be compared. Run the code below and explain the result. (10 Points)"
   ]
  },
  {
   "cell_type": "code",
   "execution_count": 446,
   "metadata": {},
   "outputs": [
    {
     "name": "stdout",
     "output_type": "stream",
     "text": [
      "length of the path DFS has found: 751\n",
      "number of vertices DFS has traveled: 891\n",
      "length of the path A* has found: 477\n",
      "number of vertices A* has traveled: 1145\n"
     ]
    }
   ],
   "source": [
    "N = 100\n",
    "M = 140\n",
    "\n",
    "start_vertex = (N, M, 0, 0, 1)\n",
    "end_vertex = (0, 0, N, M, 2)\n",
    "\n",
    "G = build_graph(N, M)\n",
    "\n",
    "dfs_result(G, start_vertex, end_vertex)\n",
    "a_star_result(G, start_vertex, end_vertex)\n"
   ]
  },
  {
   "attachments": {},
   "cell_type": "markdown",
   "metadata": {},
   "source": [
    "<font color='cyan'>\n",
    "\n",
    "مطابق با انتظار به شکل قابل توجهی کوتاه تر است A* همان طور که مشاهده می شود طول مسیر به دست آمده توسط الگوریتم\n",
    "\n",
    "</font>"
   ]
  },
  {
   "attachments": {},
   "cell_type": "markdown",
   "metadata": {},
   "source": [
    "Cell below runs some tests on dfs and stores the results in \"student_number.txt\". Then run the cell and upload the result on Quera."
   ]
  },
  {
   "cell_type": "code",
   "execution_count": 431,
   "metadata": {},
   "outputs": [],
   "source": [
    "tests = [(100, 140), (200, 260), (600, 610), (800, 1000)]\n",
    "\n",
    "f = open(student_number + \".txt\", \"w\")\n",
    "\n",
    "\n",
    "def run_tests():\n",
    "    for test in tests:\n",
    "        N, M = test\n",
    "        G = graph()\n",
    "        start_vertex = (N, M, 0, 0, 1)\n",
    "        end_vertex = (0, 0, N, M, 2)\n",
    "\n",
    "        G = build_graph(N, M)\n",
    "\n",
    "        f.write(str(run_a_star(G, start_vertex, end_vertex)))\n",
    "        G.clear(whole=True)\n",
    "\n",
    "    f.close()\n",
    "\n",
    "\n",
    "run_tests()\n"
   ]
  }
 ],
 "metadata": {
  "kernelspec": {
   "display_name": "Python 3.8.10 64-bit",
   "language": "python",
   "name": "python3"
  },
  "language_info": {
   "codemirror_mode": {
    "name": "ipython",
    "version": 3
   },
   "file_extension": ".py",
   "mimetype": "text/x-python",
   "name": "python",
   "nbconvert_exporter": "python",
   "pygments_lexer": "ipython3",
   "version": "3.8.10"
  },
  "orig_nbformat": 4,
  "vscode": {
   "interpreter": {
    "hash": "916dbcbb3f70747c44a77c7bcd40155683ae19c65e1c03b4aa3499c5328201f1"
   }
  }
 },
 "nbformat": 4,
 "nbformat_minor": 2
}
